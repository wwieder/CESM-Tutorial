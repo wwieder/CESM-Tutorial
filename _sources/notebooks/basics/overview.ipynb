{
 "cells": [
  {
   "cell_type": "markdown",
   "id": "0086605a-f330-41bd-a79b-13339e0e5d58",
   "metadata": {
    "tags": []
   },
   "source": [
    "# Overview of CESM Basics \n",
    "\n",
    "Welcome to the world of the **Community Earth System Model (CESM)**. CESM is a coupled Earth system model for simulating Earth’s climate system and connected component systems. The model is composed of separate models that simultaneously simulate the Earth’s atmosphere, ocean, land, river run-off, land-ice, and sea-ice.\n",
    "In this section you will be introduced to the basics behind CESM component models, coupling, code, workspaces, and running \n",
    "and archiving the results of CESM model simulations. Specifically we will cover the steps of:\n",
    "\n",
    "<div class=\"alert alert-info\" style=\"text-align: left;\">\n",
    "<h1> Outline: </h1>\n",
    "\n",
    "- The CESM **``Project Webpage``**\n",
    "- The CESM2 **``Model Webpage``**\n",
    "- CESM2 **``Component Models``** \n",
    "- CESM **``Working Groups``**\n",
    "- CESM2 **``Coupling``**\n",
    "- The CESM2 **``Quickstart Guide``**\n",
    "- **``Downloading``** CESM2\n",
    "- **``CIME``** and the **``Case Control System``**\n",
    "- **``Creating & Running``** a **``Case``**\n",
    "- Getting More **``Help``**\n",
    "    \n",
    "</div>"
   ]
  },
  {
   "cell_type": "markdown",
   "id": "9546d840-c247-4952-a8f2-52a377e5e180",
   "metadata": {},
   "source": [
    "# 1. CESM Project Web Page\n",
    "\n",
    "The **CESM Web Page** is the first point of reference for all things CESM. Here we can explore the larger CESM project, delve deeper into individual working groups, models, research activities, model releases, supporting model data, tools, events and much much more. <br>\n",
    "Click here to start your CESM exploration <br>\n",
    "<a href=\"http://www.cesm.ucar.edu\"> http://www.cesm.ucar.edu </a>\n",
    "\n",
    "<div class=\"alert alert-info\" style=\"text-align: left;\">\n",
    "<h1> Take-away points: </h1>\n",
    "    \n",
    "- CESM **``Project``** Information\n",
    "- **``Working Groups``** Information\n",
    "- **``Community Projects``** Information\n",
    "    - CESM2 Large Ensemble\n",
    "    - CESM2 Stratospheric Aerosol Injection (ARISE-SAI)\n",
    "- What **``Version``** of the model should you use?\n",
    "- **``Individual Model``** Pages <a href=\"https://www.cesm.ucar.edu/models/\"> https://www.cesm.ucar.edu/models/ </a>\n",
    "- **``Supported Model``** Releases – 2.1.X vs 2.2.X\n",
    "- **``Experiments``**, expand a case for details, diagnostics plots for many experiments\n",
    "\n",
    "</div>\n"
   ]
  },
  {
   "cell_type": "markdown",
   "id": "864a2f0a-cee4-4e0a-b24b-a2a0b363dfe6",
   "metadata": {},
   "source": [
    "# 2. CESM2 Web Page\n",
    "\n",
    "For information specific to the CESM version 2 Model there is a dedicated **CESM2 Web Page**. This page can be found under models on the CESM Project Web Page.\n",
    "The CESM Web Page details release information, downloading instructions, scientifically validated configurations, documentation and more. <br>\n",
    "Click here to start your CESM2 exploration: <br>\n",
    "<a href=\"http://www.cesm.ucar.edu/models/cesm2\"> http://www.cesm.ucar.edu/models/cesm2 </a>\n",
    "\n",
    "<div class=\"alert alert-info\" style=\"text-align: left;\">\n",
    "<h1> Take-away points: </h1>\n",
    "    \n",
    "- **``Release Series``** Information Notes and **``Supported Tags``** \n",
    "- **``Downloading``** Instructions - No User Registration Required\n",
    "- CESM2.2 **``Scientifically Validated``** Component Set Configurations\n",
    "- **``Online Documentation``** – Quickstart, CIME, drop-down version choice\n",
    "- **``Prognostic Component``** Details and Documentation\n",
    "    - **``Namelist``** and **``Caseroot``** Definitions -\n",
    "<a href=\"https://www.cesm.ucar.edu/models/cesm2/settings/current/\"> https://www.cesm.ucar.edu/models/cesm2/settings/current/ </a> \n",
    "\n",
    "</div>\n",
    "\n"
   ]
  },
  {
   "cell_type": "markdown",
   "id": "cd1f097c-1b20-4905-9af1-1b7c3901cb79",
   "metadata": {},
   "source": [
    "# 3. CESM2 Components\n",
    "\n",
    "The CESM2 Model is comprised of seven **Prognostic** or otherwise known as **Active** Components that are coupled through the Common Infrastructure for \n",
    "Modeling the Earth known as **CIME**. Each model component is detailed on the CESM2 Web Page. \n",
    "The models each have a page containing descriptions and documentation for active or prognostic models. You can explore each of the component models and CIME from \n",
    "the links below.\n",
    "\n",
    "<div class=\"alert alert-info\" style=\"text-align: left;\">\n",
    "<h1> Component Links: </h1>\n",
    "    \n",
    "- <a href=\"https://www.cesm.ucar.edu/models/cesm2/atmosphere\"> **``Atmosphere``** </a>\n",
    "- <a href=\"https://www.cesm.ucar.edu/models/cesm2/land\"> **``Land``** </a>\n",
    "- <a href=\"https://www.cesm.ucar.edu/models/cesm2/land-ice\"> **``Land Ice``** </a>\n",
    "- <a href=\"https://www.cesm.ucar.edu/models/cesm2/ocean\" > **``Ocean``** </a>\n",
    "- <a href=\"https://www.cesm.ucar.edu/models/cesm2/river\" > **``River Runoff``** </a>\n",
    "- <a href=\"https://www.cesm.ucar.edu/models/cesm2/sea-ice\" > **``Sea Ice``** </a>\n",
    "- <a href=\"https://www.cesm.ucar.edu/models/cesm2/wave\" > **``Wave``** </a>\n",
    "- <a href=\"https://esmci.github.io/cime/versions/master/html/index.html\" > **``CIME``** </a>\n",
    "    \n",
    "</div>"
   ]
  },
  {
   "cell_type": "markdown",
   "id": "1dbfc2b2-a5a5-49a7-b7cc-e06e456f7fdc",
   "metadata": {},
   "source": [
    "# 4. CESM Working Groups\n",
    "\n",
    "The CESM modeling effort is coordinated through **Working Groups** that are responsible for the science and development of individual CESM \n",
    "components or organized to coordinate other across CESM efforts. Each team takes responsibility for developing and continually improving its\n",
    "component of the CESM consistent with the CESM goal of a fully-coupled model and with the CESM design criteria. There are currently 12 Working Groups that are coordinated by the Working Group Co-Chairs. The Working Groups decide their own development \n",
    "priorities and work schedules, consistent with the overall goals of CESM, and are subject to oversight by the CESM Scientific Steering \n",
    "Committee (SSC). The CESM Working Group Web Page can be found at: <br>\n",
    "<a href=\"http://www.cesm.ucar.edu/working-groups\"> http://www.cesm.ucar.edu/working-groups </a>\n",
    "\n",
    "<div class=\"alert alert-info\" style=\"text-align: left;\">\n",
    "<h1> Working Group Links: </h1>\n",
    "    \n",
    "- <a href=\"https://www.cesm.ucar.edu/working-groups/atmosphere\"> **``Atmosphere Model Working Group (AMWG)``** </a>\n",
    "- <a href=\"https://www.cesm.ucar.edu/working-groups/biogeo\"> **``Biogeochemistry Working Group (BGCWG)``** </a>\n",
    "- <a href=\"https://www.cesm.ucar.edu/working-groups/chemistry\"> **``Chemistry Climate Working Group (CCWG)``** </a>\n",
    "- <a href=\"https://www.cesm.ucar.edu/working-groups/climate\" > **``Climate Variability and Change Working Group (CVCWG)``** </a>\n",
    "- <a href=\"https://www.cesm.ucar.edu/working-groups/earth-system\" > **``Earth System Prediction Working Group (ESPWG)``** </a>\n",
    "- <a href=\"https://www.cesm.ucar.edu/working-groups/land-ice\" > **``Land Ice Working Group (LIWG)``** </a>\n",
    "- <a href=\"https://www.cesm.ucar.edu/working-groups/land\" > **``Land Model Working Group (LMWG)``** </a>\n",
    "- <a href=\"https://www.cesm.ucar.edu/working-groups/ocean\" > **``Ocean Model Working Group (OMWG)``** </a>\n",
    "- <a href=\"https://www.cesm.ucar.edu/working-groups/paleo\" > **``Paleoclimate Working Group (PWG)``** </a>\n",
    "- <a href=\"https://www.cesm.ucar.edu/working-groups/polar\" > **``Polar Climate Working Group (PCWG)``** </a>\n",
    "- <a href=\"https://www.cesm.ucar.edu/working-groups/software\" > **``Software Engineering Working Group (SEWG)``** </a>\n",
    "- <a href=\"https://www.cesm.ucar.edu/working-groups/whole-atmosphere\" > **``Whole Atmosphere Model Working Group (WAWG)``** </a>\n",
    "- <a href=\"https://www.cesm.ucar.edu/working-groups/co-chairs\" > **``Co-Chairs and Terms``** </a>\n",
    "- <a href=\"https://www.cesm.ucar.edu/management/ssc\" > **``Scientific Steering Committee (SSC)``** </a>\n",
    "</div>\n",
    "\n"
   ]
  },
  {
   "cell_type": "code",
   "execution_count": null,
   "id": "6cd51626-02b0-47a6-8d8b-9d357bfe5a35",
   "metadata": {},
   "outputs": [],
   "source": []
  }
 ],
 "metadata": {
  "kernelspec": {
   "display_name": "Python 3 (ipykernel)",
   "language": "python",
   "name": "python3"
  },
  "language_info": {
   "codemirror_mode": {
    "name": "ipython",
    "version": 3
   },
   "file_extension": ".py",
   "mimetype": "text/x-python",
   "name": "python",
   "nbconvert_exporter": "python",
   "pygments_lexer": "ipython3",
   "version": "3.9.12"
  },
  "toc-showcode": false
 },
 "nbformat": 4,
 "nbformat_minor": 5
}
