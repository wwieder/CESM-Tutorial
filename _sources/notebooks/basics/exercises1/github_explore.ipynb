{
 "cells": [
  {
   "cell_type": "markdown",
   "id": "082bb7b7-5657-4601-8615-4dd2058a4625",
   "metadata": {},
   "source": [
    "# Exercise 1.2 CESM2 Github Page Exploration\n",
    "\n",
    "This exercise is to introduce you to the **CESM2 Github Page**. The CESM project is managed through the GitHub online software development platform. The CESM Project is hosted under the Earth System Community Modeling Portal (ESCOMP) which is managed by the University Corporation for Atmospheric Research (UCAR). The ESCOMP portal and the CESM project are publicly available and do not require a Github account for read and download access. The code and data repositories stored in Github can be accessed from the Cheyenne command line using the git utility as explored in the following exercises. For this exercise we will be performing the following: \n",
    "\n",
    "- Step 1. What is Github?\n",
    "- Step 2. The Earth System Community Modeling Portal\n",
    "- Step 3. The CESM Project\n",
    "- Step 4. The CESM2.1.1 Tutorial Branch\n",
    "\n",
    "<br>\n",
    "* Note this is an exploratory exercise only. You will not need to use Github for other activities in this Tutorial. We do however suggest that in your own time we you should become familar with Github, register as a Github user, and then become an active member of the CESM user and development community to make the most of your experience with CESM. <br>"
   ]
  }
 ],
 "metadata": {
  "kernelspec": {
   "display_name": "Python 3 (ipykernel)",
   "language": "python",
   "name": "python3"
  },
  "language_info": {
   "codemirror_mode": {
    "name": "ipython",
    "version": 3
   },
   "file_extension": ".py",
   "mimetype": "text/x-python",
   "name": "python",
   "nbconvert_exporter": "python",
   "pygments_lexer": "ipython3",
   "version": "3.9.12"
  }
 },
 "nbformat": 4,
 "nbformat_minor": 5
}
