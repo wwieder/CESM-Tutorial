{
 "cells": [
  {
   "cell_type": "markdown",
   "id": "082bb7b7-5657-4601-8615-4dd2058a4625",
   "metadata": {},
   "source": [
    "# Exercise 1.1 Cheyenne Login\n",
    "\n",
    "This first exercise is to introduce you to the Cheyenne computing system and set up your environment. <br>\n",
    "\n",
    "- Step 1: If you are not familiar with the Linux csh environment, then review the reference material and cheat sheet with a list of common commands: <br>\n",
    "[Info on UNIX](https://ncar.github.io/CESM-Tutorial/notebooks/tools/unix_basics.html) <br>\n",
    "[Linux cheat sheet](http://www.geol.lsu.edu/jlorenzo/ReflectSeismol/labs/unix-cheatsheet.pdf)\n",
    "- Step 2: From your tutorial machine window prompt, login to cheyenne: <br>\n",
    "**``ssh –Y [username]@cheyenne.ucar.edu``**\n",
    "- Step 3: One Time Setup: Check your default login environment settings <br>\n",
    "\n",
    "NOTE: All new tutorial logins default to bash    \n",
    "\n",
    "\n"
   ]
  },
  {
   "cell_type": "markdown",
   "id": "5b2eda56-b787-4361-b085-262ff5be6a6a",
   "metadata": {},
   "source": [
    "<div class=\"alert alert-info\">\n",
    "<strong>For tcsh users: You should have a .tcshrc file already present in your home directory. If you do not, please copy over the following\n",
    "file:</strong><br><br>\n",
    " \n",
    "**``cp /glade/p/cesm/tutorial/tcshrc ~/.tcshrc``** <br><br>\n",
    "<strong> Then, change to your home directory and source the file: </strong><br><br>\n",
    "**``cd; source .tcshrc``** <br><br>\n",
    "<strong> If you have an existing .tcshrc file and do not wish to overwrite it, please copy the contents of the /glade/p/cesm/tutorial/tcshrc file\n",
    "to your .tcshrc file. </strong>\n",
    "    \n",
    "</div>\n"
   ]
  },
  {
   "cell_type": "markdown",
   "id": "82f0f3a2-2e92-48f5-ae5e-73db93242f00",
   "metadata": {},
   "source": [
    "<div class=\"alert alert-info\">\n",
    "<strong>For bash users: You may have a .profile file already present in your home directory. If you do not, please copy over the following\n",
    "file</strong><br><br>\n",
    " \n",
    "**``cp /glade/p/cesm/tutorial/profile ~/.profile``** <br><br>\n",
    "<strong> Then, change to your home directory and source the file: </strong><br><br>\n",
    "**``cd; source .profile``** <br><br>\n",
    "<strong> If you have an existing .profile file and do not wish to overwrite it, please copy the contents of the /glade/p/cesm/tutorial/profile file\n",
    "to your .profile file. </strong>\n",
    "    \n",
    "</div>\n"
   ]
  },
  {
   "cell_type": "code",
   "execution_count": null,
   "id": "52c4e33a-b272-451d-a078-3064e1363c29",
   "metadata": {},
   "outputs": [],
   "source": []
  }
 ],
 "metadata": {
  "kernelspec": {
   "display_name": "Python 3 (ipykernel)",
   "language": "python",
   "name": "python3"
  },
  "language_info": {
   "codemirror_mode": {
    "name": "ipython",
    "version": 3
   },
   "file_extension": ".py",
   "mimetype": "text/x-python",
   "name": "python",
   "nbconvert_exporter": "python",
   "pygments_lexer": "ipython3",
   "version": "3.9.12"
  }
 },
 "nbformat": 4,
 "nbformat_minor": 5
}
