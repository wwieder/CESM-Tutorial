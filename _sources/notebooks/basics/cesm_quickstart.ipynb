{
 "cells": [
  {
   "cell_type": "markdown",
   "id": "b2cd974a-dfbb-4937-8ed0-ab87ab60f1ef",
   "metadata": {},
   "source": [
    "# CESM2 Quickstart Workflow\n",
    "\n",
    "The CESM2 Workflow is documented in the CESM2 Introduction \n",
    "<a href=\"https://escomp.github.io/CESM/release-cesm2/\"> https://escomp.github.io/CESM/release-cesm2/ </a> \n",
    " and CIME <a href=\"https://esmci.github.io/cime/versions/master/html/index.html\"> https://esmci.github.io/cime/versions/master/html/index.html </a>\n",
    "documentation pages. These pages are a guide for both novice and experienced users on the work flow steps for downloading, building and running CESM2. \n",
    "These steps will form the basis of the remaining elements of this practical session. \n",
    "Specifically we will be covering the Workflow below over the remaining workbooks. \n",
    "\n",
    "\n",
    "<div class=\"alert alert-info\" style=\"text-align: left;\">\n",
    "<h1> Workflow Elements: </h1>\n",
    " \n",
    "- One-Time Setup Steps\n",
    "    - **``Download``** the CESM code\n",
    "    - **``Create``** an **``Input Data``** Root Directory\n",
    "    - **``Porting``**\n",
    "- Creating and Running a Case\n",
    "    - **``Create``** a New Case\n",
    "    - **``Invoke``** case.setup\n",
    "    - **``Build``** the Executable with case.build\n",
    "    - **``Run``** the Model with case.submit\n",
    "    - **``Review``** Output Data\n",
    "\n",
    "</div>"
   ]
  },
  {
   "cell_type": "code",
   "execution_count": null,
   "id": "5f04bc50-8b74-4d67-9df0-d52314380468",
   "metadata": {},
   "outputs": [],
   "source": []
  }
 ],
 "metadata": {
  "kernelspec": {
   "display_name": "Python 3 (ipykernel)",
   "language": "python",
   "name": "python3"
  },
  "language_info": {
   "codemirror_mode": {
    "name": "ipython",
    "version": 3
   },
   "file_extension": ".py",
   "mimetype": "text/x-python",
   "name": "python",
   "nbconvert_exporter": "python",
   "pygments_lexer": "ipython3",
   "version": "3.9.12"
  },
  "toc-showcode": false
 },
 "nbformat": 4,
 "nbformat_minor": 5
}
