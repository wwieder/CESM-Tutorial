{
 "cells": [
  {
   "cell_type": "markdown",
   "id": "163311c4-af4e-4ac5-bfa1-20fc25016f28",
   "metadata": {
    "jp-MarkdownHeadingCollapsed": true,
    "tags": []
   },
   "source": [
    "# CESM2 Shared Infrastructure and Component Model Coupling\n",
    "\n",
    "The Combined Model Components form the coupled CESM through a shared common set of tools and infrastructure and coupling framework. Here we describe the Common Infrastructure for Modeling the Earth otherwise known as CIME introduced in the component model section, as well as the current CESM2 and future coupling frameworks.\n"
   ]
  },
  {
   "cell_type": "markdown",
   "id": "9dca3b1b-e249-4e6c-b34c-46efc6cdc144",
   "metadata": {},
   "source": [
    "# 1. CESM2 Common Infrastructure for Modeling the Earth (CIME)\n",
    "\n",
    "The Common Infrastructure for Modeling the Earth is a python-based framework that is shared between CESM2 and other modeling center efforts to ensure efficient \n",
    "coordination of model development. The schema below shows some of the science benefits and organizations that are using the CIME infrastructure. \n",
    "<br><br>\n",
    "\n",
    "![CESM directories and namelists](../../images/basics/CESM2_CIME_Infrastructure.png)\n",
    "*<p style=\"text-align: center;\"> Figure: Overview of the CESM2 Common Infrastructure for Modeling the Earth (CIME) </p>*\n"
   ]
  },
  {
   "cell_type": "markdown",
   "id": "4c689c94-e8c6-40a6-a2a0-0fa873d1f111",
   "metadata": {},
   "source": [
    "# 2. CESM2 Coupling\n",
    "\n",
    "The CESM2 coupling is performed through the Model Coupling Toolkit (MCT). Additionally, the MCT coupling framework allows data and stub components to \n",
    "replace active or prognostic components providing flexible activation/deactivation of feedbacks. \n",
    "The schematic below shows all of the components and their connections.\n",
    "<br><br>\n",
    "\n",
    "![CESM directories and namelists](../../images/basics/CESM2_MCT_Coupling.png)\n",
    "*<p style=\"text-align: center;\"> Figure: Overview of the CESM2 Components and Model Coupling Toolkit (MCT) </p>*\n",
    "\n"
   ]
  },
  {
   "cell_type": "markdown",
   "id": "9c213a95-b901-4db3-b263-4bf2d3e54196",
   "metadata": {},
   "source": [
    "# 3. New Earth System Modeling Framework (ESMF) Coupling for beyond CESM2\n",
    "\n",
    "Development beyond the CESM2 MCT coupling framework is changing to the Earth System Modeling Framework (ESMF) \n",
    "National Unified Operational Prediction Capability (NUOPC) framework. More details on NUOPC can be found at \n",
    "<a href=\"https://earthsystemmodeling.org/nuopc/\"> https://earthsystemmodeling.org/nuopc/ </a>. The schema below shows the new CESM \n",
    "configuration and coupling with NUOPC. This is included for information only as the CESM2 used in this tutorial does not use this new framework. \n",
    "<br><br>\n",
    "\n",
    "![CESM directories and namelists](../../images/basics/CESM_NUOPC_Coupling.png)\n",
    "*<p style=\"text-align: center;\"> Figure: Overview of the new CESM Components and National Unified Operational Prediction Capability (NUOPC) framework </p>*\n",
    "\n"
   ]
  }
 ],
 "metadata": {
  "kernelspec": {
   "display_name": "Python 3 (ipykernel)",
   "language": "python",
   "name": "python3"
  },
  "language_info": {
   "codemirror_mode": {
    "name": "ipython",
    "version": 3
   },
   "file_extension": ".py",
   "mimetype": "text/x-python",
   "name": "python",
   "nbconvert_exporter": "python",
   "pygments_lexer": "ipython3",
   "version": "3.9.12"
  },
  "toc-showcode": false
 },
 "nbformat": 4,
 "nbformat_minor": 5
}
