{
 "cells": [
  {
   "cell_type": "markdown",
   "id": "f406f992-92bd-4b17-9bd3-b99c5c8abaf3",
   "metadata": {},
   "source": [
    "# CESM2 Workspaces\n",
    "\n",
    "Setting up Your **CESM Workspace** requires knowledge of the locations of different parts of the model and your experiment <br>\n",
    "**Paths** are the directions to the location of different pieces of your experiment <br>\n",
    "**Roots** are saved paths that point to each piece"
   ]
  },
  {
   "cell_type": "markdown",
   "id": "2d5cb190-82bf-41a3-9054-dbf82ce9a84a",
   "metadata": {},
   "source": [
    "# Workspace Overview\n",
    "\n",
    "![CESM directories and namelists](../../images/basics/CESM2_Workspaces.png)\n",
    "*<p style=\"text-align: center;\"> Figure: Overview of the CESM2 Workspace Paths </p>*\n"
   ]
  },
  {
   "cell_type": "code",
   "execution_count": null,
   "id": "ac9a3c51-7da1-4342-9ec7-69547e38a2e0",
   "metadata": {},
   "outputs": [],
   "source": []
  }
 ],
 "metadata": {
  "kernelspec": {
   "display_name": "Python 3 (ipykernel)",
   "language": "python",
   "name": "python3"
  },
  "language_info": {
   "codemirror_mode": {
    "name": "ipython",
    "version": 3
   },
   "file_extension": ".py",
   "mimetype": "text/x-python",
   "name": "python",
   "nbconvert_exporter": "python",
   "pygments_lexer": "ipython3",
   "version": "3.9.12"
  }
 },
 "nbformat": 4,
 "nbformat_minor": 5
}
