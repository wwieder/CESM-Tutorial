{
 "cells": [
  {
   "cell_type": "markdown",
   "metadata": {},
   "source": [
    "# Running on 'Cheyenne' (Example!)\n",
    "\n",
    "This is a very quick introduction to running the climate model CESM. It will guide you through the basics of running CESM. <br>\n",
    "Today, we will run a simulation. Later, we will look at the data you produced. \n",
    "\n",
    "*** "
   ]
  },
  {
   "cell_type": "markdown",
   "metadata": {
    "tags": []
   },
   "source": [
    "## 1. Creating a CESM case\n",
    "\n",
    "CESM experiments start with creating a **case** with a specific configuration of CESM (**compset**) and at a particular **resolution**. \n",
    "\n",
    "For instance, here is the command to create a CESM case called **case0** with <br>\n",
    "<ul>\n",
    "    <li>compset:    B1850</li>\n",
    "    <li>resolution: f09_g17</li>\n",
    "</ul>"
   ]
  },
  {
   "cell_type": "markdown",
   "metadata": {},
   "source": [
    "![Running on Cheyenne Image](../../images/introduction/running_on_cheyenne_image1.png)"
   ]
  },
  {
   "cell_type": "markdown",
   "metadata": {},
   "source": [
    "### Exercise 1\n",
    "\n",
    "Customize your casename (try picking a **different** case number than 'case0') and run the cell to issue the command."
   ]
  },
  {
   "cell_type": "markdown",
   "metadata": {},
   "source": [
    "<div class=\"alert alert-warning\">\n",
    "   \n",
    "<details>   \n",
    "   <summary>\n",
    "        <img src=\"https://freesvg.org/img/bulb_on.png\" width=\"20px\">\n",
    "       <font face=\"Times New Roman\" color='blue' size=\"4\">Hint!</font>\n",
    "    </summary>\n",
    "    \n",
    "A full command is given in the example above - but you can change the case to 'case03', for example, by using the option \"--case case03\"</details>\n",
    "</div>"
   ]
  },
  {
   "cell_type": "code",
   "execution_count": null,
   "metadata": {
    "tags": []
   },
   "outputs": [],
   "source": [
    "# Enter your command here\n"
   ]
  },
  {
   "cell_type": "markdown",
   "metadata": {},
   "source": [
    "<div class=\"alert alert-success\">\n",
    "   \n",
    "<details>   \n",
    "   <summary>\n",
    "        <img src=\"https://freesvg.org/img/help-browser.png\" width=\"20px\">\n",
    "       <font face=\"Times New Roman\" color='blue' size=\"4\">Click here for a solution to Exercise #1</font>\n",
    "    </summary>\n",
    "You can try the following command to create a case with the name 'case0':  \n",
    "<br><br>\n",
    "`create_newcase --case case0 --compset B1850 --res f19_g17 `\n",
    "</details>\n",
    "</div>"
   ]
  },
  {
   "cell_type": "markdown",
   "metadata": {},
   "source": [
    "\n",
    "Great!  You've created the default version of your case. Let's wait for everyone before going to step 2.\n",
    "<br><br>\n",
    "\n",
    "***"
   ]
  },
  {
   "cell_type": "markdown",
   "metadata": {
    "tags": []
   },
   "source": [
    "<h2> 2. Setting up the case</h2>\n",
    "\n",
    "The next step in running CESM is to **setup** the case. This is done by going into the case you just created and running `./case.setup`.   \n",
    "\n",
    "The command `./case.setup` sets up files that control the model's behavior.  \n"
   ]
  },
  {
   "cell_type": "markdown",
   "metadata": {
    "tags": []
   },
   "source": [
    "### Exercise 2\n",
    "\n",
    "Customize the cell below with your own case name. Then run the cell. This sets up the case. "
   ]
  },
  {
   "cell_type": "code",
   "execution_count": null,
   "metadata": {},
   "outputs": [],
   "source": [
    "cd case0\n",
    "./case.setup"
   ]
  },
  {
   "cell_type": "markdown",
   "metadata": {
    "tags": []
   },
   "source": [
    "<br>Great!  You've now used the `case.setup` command to set up your case.  Let's wait for everyone before going to step 3.<br><br>\n",
    "\n",
    "***"
   ]
  },
  {
   "cell_type": "markdown",
   "metadata": {},
   "source": [
    "## 3. Compiling the case\n",
    "\n",
    "CESM is written in a language called **Fortran**. Similar to English, Fortran is human readable. The computer doesn't understand Fortran. It needs to be translated in a computer-readable code (strings of 0s and 1s).   "
   ]
  },
  {
   "cell_type": "markdown",
   "metadata": {},
   "source": [
    "Here is an example of fortran code"
   ]
  },
  {
   "cell_type": "raw",
   "metadata": {},
   "source": [
    " type physics_tend\n",
    "\n",
    "     integer   ::   psetcols=0 ! max number of columns set- if subcols = pcols*psubcols, else = pcols\n",
    "\n",
    "     real(r8), dimension(:,:),allocatable        :: dtdt, dudt, dvdt\n",
    "     real(r8), dimension(:),  allocatable        :: flx_net\n",
    "     real(r8), dimension(:),  allocatable        :: &\n",
    "          te_tnd,  &! cumulative boundary flux of total energy\n",
    "          tw_tnd    ! cumulative boundary flux of total water\n",
    "  end type physics_tend\n"
   ]
  },
  {
   "cell_type": "markdown",
   "metadata": {
    "tags": []
   },
   "source": [
    "### Exercise 3 \n",
    "\n",
    "Run the cell below. This compiles the case. Be aware that this can take a few minutes."
   ]
  },
  {
   "cell_type": "code",
   "execution_count": null,
   "metadata": {},
   "outputs": [],
   "source": [
    "qcmd -- ./case.build "
   ]
  },
  {
   "cell_type": "markdown",
   "metadata": {
    "tags": []
   },
   "source": [
    "<br><br>\n",
    "Again, this will take a few minutes.  You'll know this is complete when you see the line:\n",
    "\n",
    ">&nbsp;MODEL BUILD HAS FINISHED SUCCESSFULLY\n",
    "\n",
    "If you see that, fantastic!  You've built your first CESM case!  Let's wait for everyone before going to step 4.<br><br>\n",
    "\n",
    "\n",
    "***"
   ]
  },
  {
   "cell_type": "markdown",
   "metadata": {},
   "source": [
    "## 4. Customizing a CESM case\n",
    "\n",
    "**Adding some butterfly effect** ![butterfly](../../images/introduction/running_on_cheyenne_image2.png)\n",
    "- If we submitted the simulation now, we would all get the same results.\n",
    "- Let’s add a small perturbation to the temperature (butterfly effect) \n",
    "<br>\n",
    "\n",
    "**Example of a small perturbation** "
   ]
  },
  {
   "cell_type": "raw",
   "metadata": {},
   "source": [
    "Temperature = 90F -> 90.0000000000001F"
   ]
  },
  {
   "cell_type": "markdown",
   "metadata": {
    "tags": []
   },
   "source": [
    "### Exercise 4 \n",
    "\n",
    "Run the cell below. This adds some butterfly effect (a small T temperature). <br>\n",
    "Each student adds a different butterfly effect. "
   ]
  },
  {
   "cell_type": "code",
   "execution_count": null,
   "metadata": {},
   "outputs": [],
   "source": [
    "echo \"pertlim = 0e-13\" >> user_nl_cam"
   ]
  },
  {
   "cell_type": "markdown",
   "metadata": {
    "tags": []
   },
   "source": [
    "<br>\n",
    "Let's wait for everyone before going to step 5.<br><br>\n",
    "\n",
    "***"
   ]
  },
  {
   "cell_type": "markdown",
   "metadata": {},
   "source": [
    "## 5. Set the length of the run \n",
    "\n",
    "By default, cesm is set to produce 5-day simulations. Here, we modify the case to do a one-month simulation.\n",
    "<br>"
   ]
  },
  {
   "cell_type": "markdown",
   "metadata": {},
   "source": [
    "### Exercise 5\n",
    "\n",
    "Run the following cell to change the length of the simulation to one month. "
   ]
  },
  {
   "cell_type": "code",
   "execution_count": null,
   "metadata": {},
   "outputs": [],
   "source": [
    "./xmlchange STOP_OPTION=nmonths,STOP_N=1"
   ]
  },
  {
   "cell_type": "markdown",
   "metadata": {},
   "source": [
    "Run the following cell to check the length of the simulation was properly set"
   ]
  },
  {
   "cell_type": "code",
   "execution_count": null,
   "metadata": {},
   "outputs": [],
   "source": [
    "./xmlquery STOP_OPTION,STOP_N"
   ]
  },
  {
   "cell_type": "markdown",
   "metadata": {},
   "source": [
    "<br><br> If you see: \n",
    "> STOP_OPTION: nmonths <br>\n",
    "> STOP_N: 1 <br>\n",
    "\n",
    "Great!  You have set the case to run the model for one month.  Let's wait for everyone before going to step 6. \n",
    "<br><br>\n",
    "\n",
    "***"
   ]
  },
  {
   "cell_type": "markdown",
   "metadata": {
    "tags": []
   },
   "source": [
    "## 6. Running your case\n",
    "\n",
    "Running a case is also simple - we just issue the `case.submit` command.  This will start by checking that we have all of the necessary input data for our run, and downloading whatever is missing, and then it will perform the actual simulation - which we've configured to run for one month.\n"
   ]
  },
  {
   "cell_type": "markdown",
   "metadata": {},
   "source": [
    "### Exercise 6\n",
    "\n",
    "Submit your simulation. Run the cell below.  "
   ]
  },
  {
   "cell_type": "code",
   "execution_count": null,
   "metadata": {
    "tags": []
   },
   "outputs": [],
   "source": [
    "./case.submit"
   ]
  },
  {
   "cell_type": "markdown",
   "metadata": {},
   "source": [
    "**Check the simulation is running** \n",
    "\n",
    "When you submit a simulation, it will be waiting in the computer until there is enough computer resources. <br> The command `squeue` allows you to make sure your simulation is in the queue or running."
   ]
  },
  {
   "cell_type": "code",
   "execution_count": null,
   "metadata": {
    "tags": []
   },
   "outputs": [],
   "source": [
    "squeue -u $USER"
   ]
  },
  {
   "cell_type": "markdown",
   "metadata": {
    "tags": []
   },
   "source": [
    "<br><br> If your simulation is running, you should see something like: \n",
    "\n",
    "![job stats](../../images/introduction/running_on_cheyenne_image3.png)\n",
    "                \n",
    "***"
   ]
  },
  {
   "cell_type": "markdown",
   "metadata": {},
   "source": [
    "Well done. You are now running your first CESM simulation. We will look at the results of your simulation tomorrow. "
   ]
  }
 ],
 "metadata": {
  "kernelspec": {
   "display_name": "Bash",
   "language": "bash",
   "name": "bash"
  },
  "language_info": {
   "codemirror_mode": "shell",
   "file_extension": ".sh",
   "mimetype": "text/x-sh",
   "name": "bash"
  }
 },
 "nbformat": 4,
 "nbformat_minor": 4
}
