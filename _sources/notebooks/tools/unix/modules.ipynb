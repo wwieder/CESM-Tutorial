{
 "cells": [
  {
   "cell_type": "markdown",
   "id": "f406f992-92bd-4b17-9bd3-b99c5c8abaf3",
   "metadata": {},
   "source": [
    "# Loading Modules on NCAR HPC"
   ]
  },
  {
   "cell_type": "markdown",
   "id": "d0122319-defa-49ca-a794-91cfc36fb332",
   "metadata": {},
   "source": [
    "NCAR maintains a number of different programs on the HPC systems that users can load into their environment through the module system."
   ]
  },
  {
   "cell_type": "markdown",
   "id": "244ecc7f-b49b-4fba-ad36-9e816701fbb9",
   "metadata": {},
   "source": [
    "<div class=\"alert alert-info\" style=\"text-align: center;\">\n",
    "\n",
    "[CISL documentation on modules](https://arc.ucar.edu/knowledge_base/72581272)\n",
    "\n",
    "</div>"
   ]
  },
  {
   "cell_type": "markdown",
   "id": "6f2c82ed-2aa6-4d33-966a-3dfaf51084a5",
   "metadata": {},
   "source": [
    "## Checking what modules are loaded in your environment\n",
    "\n",
    "To check what modules you have loaded in your environment, use the following at the command line:"
   ]
  },
  {
   "cell_type": "code",
   "execution_count": null,
   "id": "5e5fbce3-20b8-4d2e-8cf1-db906ec69fbe",
   "metadata": {},
   "outputs": [],
   "source": [
    "module list"
   ]
  },
  {
   "cell_type": "markdown",
   "id": "31377eda-c50d-4f27-987e-6192b81abaca",
   "metadata": {},
   "source": [
    "## Checking what modules are available\n",
    "\n",
    "You can see which modules are available on the HPC resources by using the following at the command line. "
   ]
  },
  {
   "cell_type": "code",
   "execution_count": null,
   "id": "9787bc29-49c5-4a6f-983c-18d6fadd77bc",
   "metadata": {},
   "outputs": [],
   "source": [
    "module avail"
   ]
  },
  {
   "cell_type": "markdown",
   "id": "d85a7752-9a64-4204-839e-7bbd2c335931",
   "metadata": {},
   "source": [
    "The command returns a list to the terminal window of the modules available to load to your environment."
   ]
  },
  {
   "cell_type": "markdown",
   "id": "e2d568b9-98ed-4d88-9976-197303f0ef46",
   "metadata": {},
   "source": [
    "![Modules](../../../images/tools/modules.png)\n",
    "\n",
    "*<p style=\"text-align: center;\"> Figure: Some modules available on NCAR HPC resources. D: Default Module. L: Module is loaded. </p>*"
   ]
  },
  {
   "cell_type": "markdown",
   "id": "59063698-4d9e-48b8-a2ab-fdc45ecf1a4d",
   "metadata": {},
   "source": [
    "The modules highlighted in blue are text editors discussed further in the section (LINK).\n",
    "\n",
    "The modules highlighted in red are netCDF tools that will be discussed further in the section (LINK).\n",
    "\n",
    "Note that there are many other analysis software tools available to load into your NCAR HPC environment. These include: idl, julia, matlab, R, python, ncl, etc. While some of these tools are discussed in section (LINK), we do not highlight them all here and encourage you to further explore your environment and needs."
   ]
  },
  {
   "cell_type": "markdown",
   "id": "0b3aacc4-54c4-4b2c-9d48-48b3cc8a3ed3",
   "metadata": {},
   "source": [
    "## Loading a new module to your environment\n",
    "\n",
    "You can load one of the avilable modules (here we show loading ncview) using the following at the command line. "
   ]
  },
  {
   "cell_type": "code",
   "execution_count": null,
   "id": "a994c469-5060-425d-9f05-a303bb89db3e",
   "metadata": {},
   "outputs": [],
   "source": [
    "module load ncview/2.1.7"
   ]
  }
 ],
 "metadata": {
  "kernelspec": {
   "display_name": "Python 3 (ipykernel)",
   "language": "python",
   "name": "python3"
  },
  "language_info": {
   "codemirror_mode": {
    "name": "ipython",
    "version": 3
   },
   "file_extension": ".py",
   "mimetype": "text/x-python",
   "name": "python",
   "nbconvert_exporter": "python",
   "pygments_lexer": "ipython3",
   "version": "3.9.12"
  }
 },
 "nbformat": 4,
 "nbformat_minor": 5
}
