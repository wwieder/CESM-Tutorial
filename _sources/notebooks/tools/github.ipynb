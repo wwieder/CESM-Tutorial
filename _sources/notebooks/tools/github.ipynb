{
 "cells": [
  {
   "cell_type": "markdown",
   "id": "f406f992-92bd-4b17-9bd3-b99c5c8abaf3",
   "metadata": {},
   "source": [
    "# Github Resources "
   ]
  },
  {
   "cell_type": "markdown",
   "id": "ecbb8df1-076e-43a9-a409-73fea1a4475d",
   "metadata": {},
   "source": [
    "All of the software and new code developments that go into CESM are publically available through GitHub repositories. You can find information, track conversations, create issues, and learn lots about what's going on with CESM development through the CESM GitHub repository and the associated wiki."
   ]
  },
  {
   "cell_type": "markdown",
   "id": "4332ee98-964a-4123-8cd1-56a64af8aa58",
   "metadata": {},
   "source": [
    "Git is an open-source version control software to track your changes in the source code. GitHub provides a centralized online service to host the source code and version control using Git. You can make a free account in GitHub to access numerous repositories for different software code development at NCAR and beyond."
   ]
  },
  {
   "cell_type": "markdown",
   "id": "2db5b08a-8c5f-4a92-8691-fb9581340d82",
   "metadata": {},
   "source": [
    "Learning all the tricks and features of Git and GitHub takes some time to figure out. Below are some links to GitHub tutorials that can help you become more familiar with this powerful tool."
   ]
  },
  {
   "cell_type": "markdown",
   "id": "6a271fd9-ef98-4883-bcbd-4d8e83d43a8d",
   "metadata": {},
   "source": [
    "<div class=\"alert alert-info\" style=\"text-align: center;\">\n",
    "\n",
    "[GitHub tutorial from software carpentry](https://swcarpentry.github.io/git-novice/)\n",
    "\n",
    "</div>"
   ]
  },
  {
   "cell_type": "markdown",
   "id": "fcde532b-ea6e-49e2-ab45-52ed8b0f486e",
   "metadata": {},
   "source": [
    "The CESM GitHub repository has the tools for managing the exeternal components that make up a CESM model tag. Additionally, the documentation at this repository provides information about software requirements to run CESM, developer guidelines, and a Quikstart guide to accessing CESM through GitHub."
   ]
  },
  {
   "cell_type": "markdown",
   "id": "56c7b16d-5875-463c-88a8-36206fe5ec6a",
   "metadata": {},
   "source": [
    "<div class=\"alert alert-info\" style=\"text-align: center;\">\n",
    "\n",
    "[CESM GitHub repository](https://github.com/ESCOMP/CESM)\n",
    "    \n",
    "[CESM and GitHub Quickstart guide](https://escomp.github.io/CESM/versions/master/html/index.html)\n",
    "\n",
    "</div>"
   ]
  }
 ],
 "metadata": {
  "kernelspec": {
   "display_name": "Python 3 (ipykernel)",
   "language": "python",
   "name": "python3"
  },
  "language_info": {
   "codemirror_mode": {
    "name": "ipython",
    "version": 3
   },
   "file_extension": ".py",
   "mimetype": "text/x-python",
   "name": "python",
   "nbconvert_exporter": "python",
   "pygments_lexer": "ipython3",
   "version": "3.9.12"
  }
 },
 "nbformat": 4,
 "nbformat_minor": 5
}
