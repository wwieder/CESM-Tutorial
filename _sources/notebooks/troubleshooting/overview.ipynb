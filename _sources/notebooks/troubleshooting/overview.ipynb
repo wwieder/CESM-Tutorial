{
 "cells": [
  {
   "cell_type": "markdown",
   "id": "f406f992-92bd-4b17-9bd3-b99c5c8abaf3",
   "metadata": {},
   "source": [
    "# Troubleshooting runtime errors\n",
    "\n",
    "There are several places to look for information if a job fails. The logs files will probably give you a hint. \n",
    "\n",
    "## Looking at the log files\n",
    "\n",
    "The log files are files in the format ``$model.log.*`` \n",
    "- When the model is running, it produces the log files in the **run directory**: ``RUNDIR``. \n",
    "- When the run completes successfully, the model moves the log files into the **archive** directory: ``DOUT_S_ROOT``\n",
    "- When the model fails, the log files remains in the run directory ``RUNDIR``\n",
    "\n",
    "![CESM directories and namelists](../../images/troubleshooting/CESM_directories_and_log_files.png)\n",
    "\n",
    "*<p style=\"text-align: center;\"> Figure: Overview of the CESM directories and the log files. </p>*\n"
   ]
  },
  {
   "cell_type": "markdown",
   "id": "017b45ad-dcff-42b2-8623-06033b8e11d8",
   "metadata": {},
   "source": [
    "\n",
    "First, check the latest ``cpl.log.*``, which will often tell you when the model failed. If a run completed successfully, the last several lines of the ``cpl.log.*`` file will have a string like ``SUCCESSFUL TERMINATION OF CESM``. \n",
    "If you don't see this message, it means the run has failed. \n",
    "\n",
    "Check these things first when a job fails:\n",
    "- Did the model time out?\n",
    "- Was a disk quota limit hit?\n",
    "- Did a machine go down?\n",
    "- Did a file system become full?\n",
    "If any of those things happened, take appropriate corrective action and resubmit the job.\n",
    "\n",
    "If it is not clear that any of the above caused a case to fail, check the rest of the component log files ``$model.log.*`` for error messages. It takes a bit of practice to interpret message errors. We will look at an example in this chapter exercices. "
   ]
  },
  {
   "cell_type": "markdown",
   "id": "afbbe9ba-517d-4db4-9c7c-0b3daaf0e7ac",
   "metadata": {},
   "source": [
    "## Running with more debugging information\n",
    "\n",
    "If you cannot find the reason of the crash in the **log** files, there are two ways to add more debugging information. \n",
    "- Increase the value of the run-time xml variable ``INFO_DBUG`` (This **does NOT require rebuilding**): \n",
    "```\n",
    "./xmlchange INFO_DBUG=2. \n",
    "```\n",
    "This adds more information to the ``cpl.log`` file that can be useful if you can’t tell what component is aborting the run, or where bad coupling fields are originating.\n",
    "\n",
    "- Try rebuilding and rerunning with the variable DEBUG set to TRUE (This ** requires rebuilding**): \n",
    "```\n",
    "./xmlchange DEBUG=TRUE.\n",
    "```\n",
    "This adds various runtime checks that trap conditions such as out-of-bounds array indexing, divide by 0, and other floating point exceptions.\n",
    "Before running, you must rebuild run \n",
    "```\n",
    "./case.build --clean-all\n",
    "qcmd -- ./case.build.\n",
    "```\n",
    "Note that the model will run **significantly slower** in ``DEBUG mode``, so this may not be feasible if the model has to run a long time before producing the error. "
   ]
  },
  {
   "cell_type": "markdown",
   "id": "42e1dd6f-c704-4f69-965a-a015d3d0baed",
   "metadata": {},
   "source": [
    "<div class=\"alert alert-info\" style=\"text-align: center;\">\n",
    "\n",
    "More information about troubleshooting can be found in the [CIME documentation](https://esmci.github.io/cime/versions/master/html/users_guide/troubleshooting.html).\n",
    "\n",
    "</div>"
   ]
  },
  {
   "cell_type": "code",
   "execution_count": null,
   "id": "e4faba08-5532-4fc5-91a3-dcb94f11b138",
   "metadata": {},
   "outputs": [],
   "source": []
  }
 ],
 "metadata": {
  "kernelspec": {
   "display_name": "Python 3 (ipykernel)",
   "language": "python",
   "name": "python3"
  },
  "language_info": {
   "codemirror_mode": {
    "name": "ipython",
    "version": 3
   },
   "file_extension": ".py",
   "mimetype": "text/x-python",
   "name": "python",
   "nbconvert_exporter": "python",
   "pygments_lexer": "ipython3",
   "version": "3.9.12"
  }
 },
 "nbformat": 4,
 "nbformat_minor": 5
}
