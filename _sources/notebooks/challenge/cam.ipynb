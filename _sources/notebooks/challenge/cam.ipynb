{
 "cells": [
  {
   "cell_type": "markdown",
   "id": "f406f992-92bd-4b17-9bd3-b99c5c8abaf3",
   "metadata": {},
   "source": [
    "# Challenge Exercises for CAM"
   ]
  },
  {
   "cell_type": "markdown",
   "id": "e73ce5d6-d2b1-4f32-b64f-337a1b02e2d0",
   "metadata": {},
   "source": [
    "In this chapter we will run the experiments with the **``F`` compsets**. \n",
    "The ``F`` compsets use prescribed ocean (observed sea-surface temperature data) and prescribed sea-ice (observed sea-ice thickness and area)\n",
    "\n",
    "- ``F2000climo`` uses climatological forcings from around year 2000\n",
    "- ``F2010climo`` uses climatological forcings from around year 2010\n",
    "- ``FHIST`` use time varying forcing\n"
   ]
  },
  {
   "cell_type": "code",
   "execution_count": null,
   "id": "68765094-5afc-454b-8ed6-8a82eeb4d59e",
   "metadata": {},
   "outputs": [],
   "source": [
    "If you want to run a different configuration from what you’ve learned here, it is important to learn how to find and/or modify a compset.\n",
    "\n",
    "Task: Using the tools above and/or web searches below, find a CESM compset with an active atmosphere version cam6.0, that uses historical forcing data including sea surface temperatures. If you find several candidates, look at the components option and/or webpage to decide. Is it scientifically validated? For what resolutions?\n",
    "\n",
    "Tools in /glade/p/cesm/tutorial/cesm2.1_tutorial2022/cime/scripts directory :\n",
    "query_config --compsets\u000b",
    "Gives a list of all the compsets available, and what components are included. This can show exactly what you ran before, and what is possible. To narrow down your choices:\n",
    "  query_config --compsets | grep -i hist\n",
    "If you want to build your own, you can see all your options, perhaps modify one of the above with changes\u000b",
    "query_config --components\n",
    "\n",
    "More explanation (and some more options) can be found in the docs\u000b",
    "https://www.cesm.ucar.edu/models/cesm2/config/compsets.html\n",
    "https://ncar.github.io/CAM/doc/build/html/users_guide/atmospheric-configurations.html\n"
   ]
  },
  {
   "cell_type": "markdown",
   "id": "815e0869-0518-4cf9-9417-cd9b08965ca1",
   "metadata": {},
   "source": [
    "### Choose your exercises\n",
    "Start running a control case with the compset ``F2000climo``\n",
    "\n",
    "Then choose one or more exercises to try:\n",
    "- Use historical SSTs/forcings instead of fixed (compset change)\n",
    "- Try running starting 1850 with spun-up pre-industrial model\n",
    "- Increase orographic height over the western US (dataset change)\n",
    "- Modify sea surface temperature in the tropics \n",
    "- Increase the triggering threshold for deep convection over land (code change--simple)\n",
    "- Add a (fake) physics parameterization (code change--advanced)\n",
    "Compare your test exercise(s) to your control\n"
   ]
  },
  {
   "cell_type": "code",
   "execution_count": null,
   "id": "25431a8a-0ff8-4a5e-abbf-4a395aeb7077",
   "metadata": {},
   "outputs": [],
   "source": []
  }
 ],
 "metadata": {
  "kernelspec": {
   "display_name": "Python 3 (ipykernel)",
   "language": "python",
   "name": "python3"
  },
  "language_info": {
   "codemirror_mode": {
    "name": "ipython",
    "version": 3
   },
   "file_extension": ".py",
   "mimetype": "text/x-python",
   "name": "python",
   "nbconvert_exporter": "python",
   "pygments_lexer": "ipython3",
   "version": "3.9.12"
  }
 },
 "nbformat": 4,
 "nbformat_minor": 5
}
