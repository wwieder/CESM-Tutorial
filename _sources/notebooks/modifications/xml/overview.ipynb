{
 "cells": [
  {
   "cell_type": "markdown",
   "id": "f406f992-92bd-4b17-9bd3-b99c5c8abaf3",
   "metadata": {
    "tags": []
   },
   "source": [
    "# Overview of Simple XML Modifications \n",
    "\n",
    "What is an XML file, and how do we use it in CESM?"
   ]
  },
  {
   "cell_type": "markdown",
   "id": "55a68c69-196d-42c3-ae01-ad55f10daa6d",
   "metadata": {},
   "source": [
    "***"
   ]
  },
  {
   "cell_type": "markdown",
   "id": "0637e559-0f3c-46b3-bc80-f7fe1081387a",
   "metadata": {},
   "source": [
    "## 1. What is an XML file?\n",
    "\n",
    "XML (Extensible Markup Language) is a markup language that defines a syntax for encoding documents that both humans and machines could read. It does this through the use of tags that define the structure of the document, as well as how the document should be stored and transported."
   ]
  },
  {
   "cell_type": "markdown",
   "id": "027b5e63-e318-411e-b854-9109fc0491ce",
   "metadata": {},
   "source": [
    "<div class=\"alert alert-info\" style=\"text-align: center;\">\n",
    "\n",
    "[Additional information on XML files](https://www.howtogeek.com/357092/what-is-an-xml-file-and-how-do-i-open-one/)\n",
    "\n",
    "</div>"
   ]
  },
  {
   "cell_type": "markdown",
   "id": "fa35fe32-ea6a-4e3e-9a9a-070697bca22f",
   "metadata": {},
   "source": [
    "\n",
    "***"
   ]
  },
  {
   "cell_type": "markdown",
   "id": "57f433ea-3424-447f-b6e7-68673a40d24d",
   "metadata": {},
   "source": [
    "## 2. CESM XML files and CESM environment variables"
   ]
  },
  {
   "cell_type": "markdown",
   "id": "0c67affb-108e-4005-8329-ccd19ef87eda",
   "metadata": {},
   "source": [
    "CESM cases are customized, built and run largely through setting what CESM calls **\"environment variables\"**. These actually appear to the user as variables defined in xml files. \n",
    "\n",
    "\n",
    "These files appear in the case directory once a case is created and are named something like **`env_*.xml`**. We control how we compile and run the model with these files."
   ]
  },
  {
   "cell_type": "markdown",
   "id": "cce5ecd7-e613-47bd-8c4b-1e547b2a75ae",
   "metadata": {},
   "source": [
    "There are multiple <strong>`env_*.xml`</strong> files including **`env_case.xml`**, <strong>`env_mach_pe.xml`</strong>, <strong>`env_build.xml`</strong>, and <strong>`env_run.xml`</strong>."
   ]
  },
  {
   "cell_type": "markdown",
   "id": "58df9e9f-ef86-4a65-91c2-4b829b33a86e",
   "metadata": {},
   "source": [
    "In this section, we will learn and practice **modifying CESM run length and run type using `env_run.xml`**!"
   ]
  },
  {
   "cell_type": "code",
   "execution_count": null,
   "id": "92843a68-fe06-4278-987a-89dc1a02e5dd",
   "metadata": {},
   "outputs": [],
   "source": []
  }
 ],
 "metadata": {
  "kernelspec": {
   "display_name": "Python 3 (ipykernel)",
   "language": "python",
   "name": "python3"
  },
  "language_info": {
   "codemirror_mode": {
    "name": "ipython",
    "version": 3
   },
   "file_extension": ".py",
   "mimetype": "text/x-python",
   "name": "python",
   "nbconvert_exporter": "python",
   "pygments_lexer": "ipython3",
   "version": "3.9.12"
  }
 },
 "nbformat": 4,
 "nbformat_minor": 5
}
