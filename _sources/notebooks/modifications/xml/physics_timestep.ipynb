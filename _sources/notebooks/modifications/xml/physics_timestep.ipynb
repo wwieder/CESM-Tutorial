{
 "cells": [
  {
   "cell_type": "markdown",
   "id": "f406f992-92bd-4b17-9bd3-b99c5c8abaf3",
   "metadata": {},
   "source": [
    "# Physics Timestep\n",
    "\n",
    "**Where and When to Change Time Steps**:\n",
    "\n",
    "When the model crashes due to large, temporary instabilities, one method to overcome the problem is to change the time step.\n",
    "This is typically done in either the atmosphere or ocean components. \n",
    "\n",
    "- For atmosphere and land component (CAM/CLM): change `ATM_NCPL` in `env_run.xml`.<br>\n",
    "- For ocean (POP): change `dt_count` in POP namelist. \n",
    "\n",
    "<br>\n",
    "\n",
    "***\n",
    "\n",
    "<br>"
   ]
  },
  {
   "cell_type": "markdown",
   "id": "dc35cf0e-f3be-4a26-b2f0-0b716ca440f1",
   "metadata": {},
   "source": [
    "- **For the atmosphere component (CAM)**, the physics time step is set by `$ATM_NCPL` in `env_run.xml`. This variable specifies the number of coupling intervals per day between the atmosphere/land and the coupled system. Based on `ATM_NCPL`, the scripts will automatically compute the time step for the atmosphere and land and populate the namelist files accordingly.\n",
    "\n",
    "- **For the land component (CLM)**, the physics ime step is the same as the CAM time step; this is automatically set with the CAM time step via `ATM_NCPL`. You cannot set this separately.\n",
    "\n",
    "- **For the ocean component (POP2)**, the physics time step is changed in the `user_nl_pop` file and is based on `$OCN_NCPL` (found in `env_run.xml`), `dt_count` , and `dt_option`. The default `dt_option` is `“steps_per_day”`.\n",
    "\n",
    "- **For the sea ice component (CICE)**, the physics time step is set by the coupling interval variable `$ICE_NCPL` found in env_run.xml. "
   ]
  },
  {
   "cell_type": "code",
   "execution_count": null,
   "id": "d227999f-f3c0-4ae7-adbc-558cc7a6f287",
   "metadata": {},
   "outputs": [],
   "source": []
  }
 ],
 "metadata": {
  "kernelspec": {
   "display_name": "Python 3 (ipykernel)",
   "language": "python",
   "name": "python3"
  },
  "language_info": {
   "codemirror_mode": {
    "name": "ipython",
    "version": 3
   },
   "file_extension": ".py",
   "mimetype": "text/x-python",
   "name": "python",
   "nbconvert_exporter": "python",
   "pygments_lexer": "ipython3",
   "version": "3.9.12"
  }
 },
 "nbformat": 4,
 "nbformat_minor": 5
}
