{
 "cells": [
  {
   "cell_type": "markdown",
   "id": "f406f992-92bd-4b17-9bd3-b99c5c8abaf3",
   "metadata": {},
   "source": [
    "# CESM tutorial introduction\n",
    "\n"
   ]
  },
  {
   "cell_type": "markdown",
   "id": "4651282a-0c4f-449a-bf36-74af04e7281e",
   "metadata": {},
   "source": [
    "In order to successfully complete this tutorial you will:\n",
    "- utilize a terminal window\n",
    "- issue commands at the command line using UNIX\n",
    "- need to be able to access and run on the Cheyenne and Casper HPC assets\n",
    "- use JupyterHub for some basic diagnostic plotting\n",
    "\n",
    "The links below provide more information about these topics. If you not familiar with the NCAR HPC environment, using terminals and UNIX, or using JupyterHub then we strongly recommend that you read through these sections."
   ]
  },
  {
   "cell_type": "markdown",
   "id": "cb4c2169-2a4f-4965-ae98-96576b7eb1fa",
   "metadata": {},
   "source": [
    "## Using Terminals"
   ]
  },
  {
   "cell_type": "markdown",
   "id": "61ef2360-0800-4e99-85c3-c8e5a08e009d",
   "metadata": {},
   "source": [
    "For most of these tutorial exercises, we assume that you will use the online documentation in tandem with an open terminal window. The commands described in the online practical activity documenation will need to be entered at the command line in your terminal window.\n",
    "\n",
    "If you are unfamiliar with opening terminal windows, we suggest you use the link below to learn more about terminal windows and using UNIX at the command line.  "
   ]
  },
  {
   "cell_type": "markdown",
   "id": "5a296f0f-913a-42c0-b4a1-e79e5b178ce4",
   "metadata": {},
   "source": [
    "<div class=\"alert alert-info\" style=\"text-align: center;\">\n",
    "\n",
    "[Info on UNIX](https://ncar.github.io/CESM-Tutorial/notebooks/tools/unix_basics.html)\n",
    "    \n",
    "</div>"
   ]
  },
  {
   "cell_type": "markdown",
   "id": "aa790c7f-75f7-44a7-a1fd-04289f14bb78",
   "metadata": {},
   "source": [
    "## Running on Cheyenne"
   ]
  },
  {
   "cell_type": "markdown",
   "id": "72a86884-8611-4824-a0b4-d6c98cdd18db",
   "metadata": {},
   "source": [
    "This tutorial material has been designed for use with the Cheyenne high-performance computer system. All of your CESM experiment builds and jobs will be run on Cheyenne.\n",
    "\n",
    "Please see the link below for more information about the Cheyenne system, including a quick start guide with information about logging into Cheyenne from a terminal, setting up your environment, submitting jobs, etc. "
   ]
  },
  {
   "cell_type": "markdown",
   "id": "d072a368-24ee-484f-be6e-6f93f7e70853",
   "metadata": {},
   "source": [
    "<div class=\"alert alert-info\" style=\"text-align: center;\">\n",
    "\n",
    "[CISL Documentation on Using Cheyenne HPC](https://arc.ucar.edu/knowledge_base/70549542)\n",
    "    \n",
    "</div>"
   ]
  },
  {
   "cell_type": "markdown",
   "id": "c306d55d-9b23-466c-a213-6271d019d052",
   "metadata": {},
   "source": [
    "## Using Casper"
   ]
  },
  {
   "cell_type": "markdown",
   "id": "d5f9c830-3b48-422b-90d8-1fd90a85d98d",
   "metadata": {},
   "source": [
    "The Casper cluster is a system of specialized data analysis and visualization resources. Casper is not used for building or running CESM, but it is used for CESM data analysis. We will use Casper only on the diagnostics section of the lab activities. However, to utilize some of the analysis tools described in the \"Useful Tools\" section you will want to use Casper."
   ]
  },
  {
   "cell_type": "markdown",
   "id": "08f94926-f973-4d81-bf7f-6f3424eccbb9",
   "metadata": {},
   "source": [
    "<div class=\"alert alert-info\" style=\"text-align: center;\">\n",
    "\n",
    "[CISL Documentation on Using Casper Cluster](https://arc.ucar.edu/knowledge_base/70549550)\n",
    "    \n",
    "</div>"
   ]
  },
  {
   "cell_type": "markdown",
   "id": "603c963b-4d65-4cd6-94a3-ea5ae932578e",
   "metadata": {},
   "source": [
    "## Using JupyterHub"
   ]
  },
  {
   "cell_type": "markdown",
   "id": "a9423bae-be8c-4848-916c-926f86645da6",
   "metadata": {},
   "source": [
    "The diagnostics secton of this tutorial will use JupyterHub to run Jupyter Notebooks. You will need to log in to the NCAR JupyterHub system to run the notebooks successfully. To run a Jupyter cell, you can just type in the cell, then run it by pressing **shift+return** when in the cell, or alternatively by selecting the cell then clicking the 'play' button up above.\n",
    "\n",
    "To learn more about JupyterHub, please follow the link below."
   ]
  },
  {
   "cell_type": "markdown",
   "id": "6ae8710f-8dd2-4ed6-893f-d2de5b863b94",
   "metadata": {},
   "source": [
    "<div class=\"alert alert-info\" style=\"text-align: center;\">\n",
    "\n",
    "[Information about JupyterHub](https://ncar.github.io/CESM-Tutorial/notebooks/tools/analysis_tools.html#jupyter-hub)\n",
    "    \n",
    "</div>"
   ]
  }
 ],
 "metadata": {
  "kernelspec": {
   "display_name": "Bash",
   "language": "bash",
   "name": "bash"
  },
  "language_info": {
   "codemirror_mode": "shell",
   "file_extension": ".sh",
   "mimetype": "text/x-sh",
   "name": "bash"
  }
 },
 "nbformat": 4,
 "nbformat_minor": 5
}
